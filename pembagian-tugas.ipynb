{
 "cells": [
  {
   "cell_type": "markdown",
   "metadata": {},
   "source": [
    "<h1 align=\"center\">Pembagian Tugas</h1>"
   ]
  },
  {
   "cell_type": "markdown",
   "metadata": {},
   "source": [
    "1. Core\n",
    "\n",
    "- Nisrina Asa Khairun Nisa (21/476829/PA/20609)\n",
    "- Juanito Pramuditya Yoga Pratama (21/481033/PA/20927)"
   ]
  },
  {
   "cell_type": "code",
   "execution_count": null,
   "metadata": {},
   "outputs": [],
   "source": [
    "import math\n",
    "\n",
    "def posisi_balok(m,g,sudut,μs,t):\n",
    "    W = m*g\n",
    "    sudutlintasan = math.radians(sudut)\n",
    "    sina = math.sin(sudutlintasan)\n",
    "    Wx = W*sina\n",
    "    sudutlintasan = math.radians(sudut)\n",
    "    cosa = math.cos(sudutlintasan)\n",
    "    Wy = W*cosa\n",
    "    N = Wy\n",
    "    fs =  μs*N\n",
    "    ΣFx = Wx - fs\n",
    "    ax = ΣFx/m\n",
    "    x0 = 0\n",
    "    v0x = 0\n",
    "    posisi_balok = x0 + v0x*t + (1/2)*ax*t**2\n",
    "    return posisi_balok\n",
    "\n",
    "print(\"Mencari posisi balok saat t\")\n",
    "m = float (input(\"Masukkan massa benda = \"))\n",
    "g = float (input(\"Masukkan percepatan gravitasi = \"))\n",
    "sudut = float (input(\"Masukkan sudut = \"))\n",
    "μs = float(input('Masukkan koefisien gaya gesek = '))\n",
    "t = float (input(\"masukkan waktu = \"))\n",
    "\n",
    "x = posisi_balok(m,g,sudut,μs,t)\n",
    "print(x)\n",
    "\n",
    "y=x/5\n",
    "import turtle\n",
    "tt = turtle.Turtle()\n",
    "tt.forward(150)  \n",
    "tt.left(90)\n",
    "tt.forward(100)\n",
    "tt.left(124)\n",
    "tt.forward(y)\n",
    "tt.right(90)\n",
    "tt.forward(50)\n",
    "tt.left(90)\n",
    "tt.forward(50)\n",
    "tt.left(90)\n",
    "tt.forward(50)\n",
    "tt.left(90)\n",
    "tt.forward(50)\n",
    "tt.backward(178-y)\n",
    "tt.penup()\n",
    "tt.goto(120,100)\n",
    "tt.write(x,\"cm\")\n",
    "turtle.done()\n",
    "turtle.mainloop()"
   ]
  },
  {
   "cell_type": "markdown",
   "metadata": {},
   "source": [
    "2. CLI\n",
    "- Davistio Ramadhani (21/480076/PA/20839)\n",
    "- Nabila Imana Harahap (21/482174/PA/21029)"
   ]
  },
  {
   "cell_type": "code",
   "execution_count": null,
   "metadata": {},
   "outputs": [],
   "source": [
    "import argparse\n",
    "import sys\n",
    "from fungs import ramp_prob\n",
    "\n",
    "def main():\n",
    "    parser = argparse.ArgumentParser()\n",
    "    parser.add_argument('--m', type=float, default=1.0,\n",
    "                        help='Massa benda')\n",
    "    parser.add_argument('--g', type=float, default=1.0,\n",
    "                        help='Gravitasi')\n",
    "    parser.add_argument('--agl', type=float, default=1.0,\n",
    "                        help='Sudut')\n",
    "    parser.add_argument('--kg', type=float, default=1.0,\n",
    "                        help='Koefisien Gesek')\n",
    "    parser.add_argument('--t', type=float, default=1.0,\n",
    "                        help='Waktu')                    \n",
    "    parser.add_argument('--op', type=str, default='ok',\n",
    "                        help='Operator')\n",
    "    args = parser.parse_args()\n",
    "    sys.stdout.write(str(calc(args)))\n",
    "\n",
    "def calc(args):\n",
    "    if args.op == 'ok':\n",
    "        m=args.m\n",
    "        g=args.g\n",
    "        sudut=args.agl\n",
    "        μs=args.kg\n",
    "        t=args.t\n",
    "        ramp_prob(m,g,sudut,μs,t)\n",
    "\n",
    "if __name__ == '__main__':\n",
    "    main()"
   ]
  },
  {
   "cell_type": "markdown",
   "metadata": {},
   "source": [
    "3. GUI\n",
    "- Hermanu Krisna Wahyudi (21/473308/PA/20377)\n",
    "- Abror Risang Parikesit (21/480466/PA/20870)"
   ]
  },
  {
   "cell_type": "code",
   "execution_count": null,
   "metadata": {},
   "outputs": [],
   "source": [
    "from tkinter import*\n",
    "import tkinter.font\n",
    "import math\n",
    "from fungs import ramp_prob\n",
    "root = Tk()\n",
    "root.geometry(\"300x600\")\n",
    "\n",
    "changefont = tkinter.font.Font(size=20)\n",
    "Title = Label(root,text = \"Core Ramp Problem\", font = changefont)\n",
    "Title.place(x=20, y=10)\n",
    "\n",
    "m = Label(root,text = \"Massa Benda\")\n",
    "g =Label(root,text = \"Gravitasi\")\n",
    "sudut = Label(root,text = \"Besar Sudut\")\n",
    "μs = Label(root,text = \"Koefisien Gaya Gesek\")\n",
    "t = Label(root,text = \"Durasi Waktu\")\n",
    "\n",
    "\n",
    "e1 = Entry(root,width=40)\n",
    "e2 = Entry(root,width=40)\n",
    "e3 = Entry(root)\n",
    "e4 = Entry(root,width=40)\n",
    "e5 = Entry(root,width=40)\n",
    "\n",
    "m.place(x = 20, y = 50)\n",
    "g.place(x = 20, y = 90)\n",
    "sudut.place(x = 20, y = 130)\n",
    "μs.place(x = 20, y = 170)\n",
    "t.place(x = 20, y = 210)\n",
    "\n",
    "e1.place(x = 20, y = 70)\n",
    "e2.place(x = 20, y = 110)\n",
    "e3.place(x = 20, y = 150)\n",
    "e4.place(x = 20, y = 190)\n",
    "e5.place(x = 20, y = 230)\n",
    "\n",
    "def cetak():\n",
    "    m = float(e1.get())\n",
    "    g = float(e2.get())\n",
    "    sudut = float(e3.get())\n",
    "    μs = float(e4.get())\n",
    "    t = float(e5.get())\n",
    "    ramp_prob(m,g,sudut,μs,t)\n",
    "            \n",
    "\n",
    "btn = Button(root,text=\"submit\", command=cetak).place(x=100, y=260)\n",
    "\n",
    "root.mainloop()"
   ]
  }
 ],
 "metadata": {
  "kernelspec": {
   "display_name": "Python 3.10.8 64-bit (microsoft store)",
   "language": "python",
   "name": "python3"
  },
  "language_info": {
   "name": "python",
   "version": "3.10.8"
  },
  "orig_nbformat": 4,
  "vscode": {
   "interpreter": {
    "hash": "4fbc0d947eaf72472870e97615f0a91e96587ef360d5dee6574c34fa65f37b07"
   }
  }
 },
 "nbformat": 4,
 "nbformat_minor": 2
}
